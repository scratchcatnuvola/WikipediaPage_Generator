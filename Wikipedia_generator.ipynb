{
  "cells": [
    {
      "cell_type": "markdown",
      "metadata": {
        "id": "view-in-github",
        "colab_type": "text"
      },
      "source": [
        "<a href=\"https://colab.research.google.com/github/scratchcatnuvola/WikipediaPage_Generator/blob/main/Wikipedia_generator.ipynb\" target=\"_parent\"><img src=\"https://colab.research.google.com/assets/colab-badge.svg\" alt=\"Open In Colab\"/></a>"
      ]
    },
    {
      "cell_type": "code",
      "execution_count": 45,
      "metadata": {
        "id": "tdV8-G7AX9Qu",
        "collapsed": true,
        "outputId": "6c772b6e-6b28-41d6-e732-86cdf25a20f9",
        "colab": {
          "base_uri": "https://localhost:8080/",
          "height": 1000
        }
      },
      "outputs": [
        {
          "output_type": "display_data",
          "data": {
            "text/plain": [
              "<IPython.core.display.HTML object>"
            ],
            "text/html": [
              "\n",
              "  <style>\n",
              "    pre {\n",
              "        white-space: pre-wrap;\n",
              "    }\n",
              "  </style>\n",
              "  "
            ]
          },
          "metadata": {}
        },
        {
          "output_type": "stream",
          "name": "stdout",
          "text": [
            "fatal: destination path 'DCU_TCD_FORGe_WebNLG23' already exists and is not an empty directory.\n",
            "rm: cannot remove 'DCU_TCD_FORGe_WebNLG23/DCU_TCD_FORGe_WebNLG23.ipynb': No such file or directory\n",
            "fatal: destination path 'M-FleNS_NLG-Pipeline' already exists and is not an empty directory.\n",
            "rm: cannot remove 'M-FleNS_NLG-Pipeline/M_FleNS_pipe_v2.ipynb': No such file or directory\n",
            "fatal: destination path 'WikipediaPage_Generator' already exists and is not an empty directory.\n",
            "rm: cannot remove 'WikipediaPage_Generator/Wikipedia_generator.ipynb': No such file or directory\n",
            "Archive:  /content/M-FleNS_NLG-Pipeline/code/FORGe_colab_v4.zip\n",
            "replace /content/FORGe/201005_dev_3tr_sml_EN.conll? [y]es, [n]o, [A]ll, [N]one, [r]ename: A\n",
            "  inflating: /content/FORGe/201005_dev_3tr_sml_EN.conll  \n",
            "  inflating: /content/FORGe/230823_dev_4tr_sml_GA.conll  \n",
            "  inflating: /content/FORGe/buddy-patched.jar  \n",
            "  inflating: /content/FORGe/buddy_project/dict/concepticon.dic  \n",
            "  inflating: /content/FORGe/buddy_project/dict/EN_control.dic  \n",
            "  inflating: /content/FORGe/buddy_project/dict/EN_language_info.dic  \n",
            "  inflating: /content/FORGe/buddy_project/dict/EN_lexicon_MS.dic  \n",
            "  inflating: /content/FORGe/buddy_project/dict/EN_lexicon_SMALL.dic  \n",
            "  inflating: /content/FORGe/buddy_project/dict/EN_morphologicon.dic  \n",
            "  inflating: /content/FORGe/buddy_project/dict/EN_semanticon.dic  \n",
            "  inflating: /content/FORGe/buddy_project/dict/ES_language_info.dic  \n",
            "  inflating: /content/FORGe/buddy_project/dict/ES_lexicon.dic  \n",
            "  inflating: /content/FORGe/buddy_project/dict/ES_morphologicon.dic  \n",
            "  inflating: /content/FORGe/buddy_project/dict/ES_semanticon.dic  \n",
            "  inflating: /content/FORGe/buddy_project/dict/GA_language_info.dic  \n",
            "  inflating: /content/FORGe/buddy_project/dict/GA_lexicon.dic  \n",
            "  inflating: /content/FORGe/buddy_project/dict/GA_morphologicon.dic  \n",
            "  inflating: /content/FORGe/buddy_project/dict/GA_semanticon.dic  \n",
            "  inflating: /content/FORGe/buddy_project/dict/project_KRISTINA.dic  \n",
            "  inflating: /content/FORGe/buddy_project/rule/10_Con_Sem.rl  \n",
            "  inflating: /content/FORGe/buddy_project/rule/11.1_Con_Agg1.rl  \n",
            "  inflating: /content/FORGe/buddy_project/rule/11.2_Con_Agg2.rl  \n",
            "  inflating: /content/FORGe/buddy_project/rule/11.3_Con_Agg3.rl  \n",
            "  inflating: /content/FORGe/buddy_project/rule/11.4_Con_Agg4.rl  \n",
            "  inflating: /content/FORGe/buddy_project/rule/13_Sem_SemPoS.rl  \n",
            "  inflating: /content/FORGe/buddy_project/rule/15_SemPoS_SemCommMark.rl  \n",
            "  inflating: /content/FORGe/buddy_project/rule/17_SemCommMark_SemComm.rl  \n",
            "  inflating: /content/FORGe/buddy_project/rule/20_SemComm_DSynt.rl  \n",
            "  inflating: /content/FORGe/buddy_project/rule/30_DSynt_SSynt.rl  \n",
            "  inflating: /content/FORGe/buddy_project/rule/35_SSynt_PostProc.rl  \n",
            "  inflating: /content/FORGe/buddy_project/rule/37.1_SSynt_Agg1.rl  \n",
            "  inflating: /content/FORGe/buddy_project/rule/37.2_SSynt_Agg2.rl  \n",
            "  inflating: /content/FORGe/buddy_project/rule/38.1_SSynt_REG1.rl  \n",
            "  inflating: /content/FORGe/buddy_project/rule/38.2_SSynt_REG2.rl  \n",
            "  inflating: /content/FORGe/buddy_project/rule/40_SSynt_DMorph_linearize.rl  \n",
            "  inflating: /content/FORGe/buddy_project/rule/50_DMorph_SMorph.rl  \n",
            "  inflating: /content/FORGe/buddy_project/rule/60_Smorph_Sentence.rl  \n",
            "  inflating: /content/FORGe/mateColabDrive.properties  \n",
            "  inflating: /content/FORGe/mateLevels.properties  \n"
          ]
        },
        {
          "output_type": "error",
          "ename": "FileExistsError",
          "evalue": "[Errno 17] File exists: '/content/triples2predArg'",
          "traceback": [
            "\u001b[0;31m---------------------------------------------------------------------------\u001b[0m",
            "\u001b[0;31mFileExistsError\u001b[0m                           Traceback (most recent call last)",
            "\u001b[0;32m<ipython-input-45-719d8a626095>\u001b[0m in \u001b[0;36m<cell line: 0>\u001b[0;34m()\u001b[0m\n\u001b[1;32m     29\u001b[0m \u001b[0;31m# Unzip triple to predArg conversion\u001b[0m\u001b[0;34m\u001b[0m\u001b[0;34m\u001b[0m\u001b[0m\n\u001b[1;32m     30\u001b[0m \u001b[0mtriple2predArg\u001b[0m \u001b[0;34m=\u001b[0m \u001b[0mos\u001b[0m\u001b[0;34m.\u001b[0m\u001b[0mpath\u001b[0m\u001b[0;34m.\u001b[0m\u001b[0mjoin\u001b[0m\u001b[0;34m(\u001b[0m\u001b[0mroot_folder\u001b[0m\u001b[0;34m,\u001b[0m \u001b[0;34m'triples2predArg'\u001b[0m\u001b[0;34m)\u001b[0m\u001b[0;34m\u001b[0m\u001b[0;34m\u001b[0m\u001b[0m\n\u001b[0;32m---> 31\u001b[0;31m \u001b[0mos\u001b[0m\u001b[0;34m.\u001b[0m\u001b[0mmakedirs\u001b[0m\u001b[0;34m(\u001b[0m\u001b[0mtriple2predArg\u001b[0m\u001b[0;34m)\u001b[0m\u001b[0;34m\u001b[0m\u001b[0;34m\u001b[0m\u001b[0m\n\u001b[0m\u001b[1;32m     32\u001b[0m \u001b[0mzipPredArg\u001b[0m \u001b[0;34m=\u001b[0m  \u001b[0mos\u001b[0m\u001b[0;34m.\u001b[0m\u001b[0mpath\u001b[0m\u001b[0;34m.\u001b[0m\u001b[0mjoin\u001b[0m\u001b[0;34m(\u001b[0m\u001b[0mroot_folder\u001b[0m\u001b[0;34m,\u001b[0m \u001b[0;34m'WikipediaPage_Generator'\u001b[0m\u001b[0;34m,\u001b[0m \u001b[0;34m'code'\u001b[0m\u001b[0;34m,\u001b[0m \u001b[0;34m'triples2predArg.zip'\u001b[0m\u001b[0;34m)\u001b[0m\u001b[0;34m\u001b[0m\u001b[0;34m\u001b[0m\u001b[0m\n\u001b[1;32m     33\u001b[0m \u001b[0mget_ipython\u001b[0m\u001b[0;34m(\u001b[0m\u001b[0;34m)\u001b[0m\u001b[0;34m.\u001b[0m\u001b[0msystem\u001b[0m\u001b[0;34m(\u001b[0m\u001b[0;34m' unzip {zipPredArg} -d {triple2predArg}'\u001b[0m\u001b[0;34m)\u001b[0m\u001b[0;34m\u001b[0m\u001b[0;34m\u001b[0m\u001b[0m\n",
            "\u001b[0;32m/usr/lib/python3.11/os.py\u001b[0m in \u001b[0;36mmakedirs\u001b[0;34m(name, mode, exist_ok)\u001b[0m\n",
            "\u001b[0;31mFileExistsError\u001b[0m: [Errno 17] File exists: '/content/triples2predArg'"
          ]
        }
      ],
      "source": [
        "# @title Step 1: Prepare repo\n",
        "# Run this cell to download and unzip the working folder and install Java 8\n",
        "\n",
        "from IPython.display import clear_output, HTML, display\n",
        "import os\n",
        "import shutil\n",
        "\n",
        "root_folder = '/content'\n",
        "\n",
        "# clone main repo\n",
        "! git clone https://github.com/mille-s/DCU_TCD_FORGe_WebNLG23.git\n",
        "# Delete locally to avoid confusion\n",
        "! rm 'DCU_TCD_FORGe_WebNLG23/DCU_TCD_FORGe_WebNLG23.ipynb'\n",
        "\n",
        "# clone M-FleNS repo (generation pipeline)\n",
        "! git clone https://github.com/mille-s/M-FleNS_NLG-Pipeline.git\n",
        "# Delete locally to avoid confusion\n",
        "! rm 'M-FleNS_NLG-Pipeline/M_FleNS_pipe_v2.ipynb'\n",
        "\n",
        "# clone wikipedia page generator repo\n",
        "! git clone https://github.com/mille-s/WikipediaPage_Generator.git\n",
        "# Delete locally to avoid confusion\n",
        "! rm 'WikipediaPage_Generator/Wikipedia_generator.ipynb'\n",
        "\n",
        "# Unzip FORGe\n",
        "zipForge = os.path.join(root_folder, 'M-FleNS_NLG-Pipeline', 'code', 'FORGe_colab_v4.zip')\n",
        "! unzip {zipForge} -d {root_folder}\n",
        "\n",
        "# Unzip triple to predArg conversion\n",
        "triple2predArg = os.path.join(root_folder, 'triples2predArg')\n",
        "os.makedirs(triple2predArg)\n",
        "zipPredArg =  os.path.join(root_folder, 'WikipediaPage_Generator', 'code', 'triples2predArg.zip')\n",
        "! unzip {zipPredArg} -d {triple2predArg}\n",
        "triple2Conll_jar = os.path.join(triple2predArg, 'webNLG_triples2conll.jar')\n",
        "\n",
        "# Unzip Morphology generator\n",
        "morph_folder_name = 'test_irish_morph_gen_v5.0'\n",
        "zipMorph = os.path.join(root_folder, 'DCU_TCD_FORGe_WebNLG23', 'code', morph_folder_name+'.zip')\n",
        "! unzip {zipMorph} -d {root_folder}\n",
        "morph_input_folder = os.path.join(root_folder, morph_folder_name, 'Inputs')\n",
        "morph_output_folder = os.path.join(root_folder, morph_folder_name, 'Outputs')\n",
        "os.makedirs(morph_input_folder)\n",
        "os.makedirs(morph_output_folder)\n",
        "# Make morphology flookup executable\n",
        "! 7z a -sfx {morph_folder_name}'/flookup.exe' {morph_folder_name}'/flookup'\n",
        "! chmod 755 {morph_folder_name}'/flookup'\n",
        "\n",
        "# Unzip mock Wikipedia headers\n",
        "zipWikiImg = os.path.join(root_folder, 'WikipediaPage_Generator', 'code', 'wikipedia-images.zip')\n",
        "! unzip {zipWikiImg} -d {triple2predArg}\n",
        "\n",
        "# Install SPARQLWrapper and download list of properties\n",
        "! pip install SPARQLWrapper\n",
        "props_list_path = os.path.join(root_folder, 'DCU_TCD_FORGe_WebNLG23', 'code', 'sorted_properties.txt')\n",
        "\n",
        "clear_output()\n",
        "print('Working folder ready!\\n--------------\\nInstalling Java 8...\\n')\n",
        "\n",
        "# Switch to Java 1.8 (needed for FORGe to run correctly)\n",
        "def install_java():\n",
        "  !apt-get install -y openjdk-8-jdk-headless -qq > /dev/null      #install openjdk\n",
        "  os.environ[\"JAVA_HOME\"] = \"/usr/lib/jvm/java-8-openjdk-amd64\"     #set environment variable\n",
        "  !update-alternatives --set java /usr/lib/jvm/java-8-openjdk-amd64/jre/bin/java\n",
        "  !java -version       #check java version\n",
        "install_java()\n",
        "\n",
        "# To wrap texts in cells\n",
        "def set_css():\n",
        "  display(HTML('''\n",
        "  <style>\n",
        "    pre {\n",
        "        white-space: pre-wrap;\n",
        "    }\n",
        "  </style>\n",
        "  '''))\n",
        "\n",
        "get_ipython().events.register('pre_run_cell', set_css)"
      ]
    },
    {
      "source": [
        "# Unzip triple to predArg conversion\n",
        "triple2predArg = os.path.join(root_folder, 'triples2predArg')\n",
        "# Check if the directory exists, and only create it if it doesn't\n",
        "if not os.path.exists(triple2predArg):\n",
        "  os.makedirs(triple2predArg)\n",
        "zipPredArg =  os.path.join(root_folder, 'WikipediaPage_Generator', 'code', 'triples2predArg.zip')\n",
        "! unzip {zipPredArg} -d {triple2predArg}\n",
        "triple2Conll_jar = os.path.join(triple2predArg, 'webNLG_triples2conll.jar')"
      ],
      "cell_type": "code",
      "metadata": {
        "id": "ZGAVCTVTeOxj",
        "outputId": "4fbf2ab6-d8e8-49b3-a15e-71d7a625f76d",
        "colab": {
          "base_uri": "https://localhost:8080/",
          "height": 1000
        }
      },
      "execution_count": 44,
      "outputs": [
        {
          "output_type": "display_data",
          "data": {
            "text/plain": [
              "<IPython.core.display.HTML object>"
            ],
            "text/html": [
              "\n",
              "  <style>\n",
              "    pre {\n",
              "        white-space: pre-wrap;\n",
              "    }\n",
              "  </style>\n",
              "  "
            ]
          },
          "metadata": {}
        },
        {
          "output_type": "stream",
          "name": "stdout",
          "text": [
            "Archive:  /content/WikipediaPage_Generator/code/triples2predArg.zip\n",
            "replace /content/triples2predArg/221130_WebNLG23_GA.conll? [y]es, [n]o, [A]ll, [N]one, [r]ename: A\n",
            "  inflating: /content/triples2predArg/221130_WebNLG23_GA.conll  \n",
            "  inflating: /content/triples2predArg/230528-WebNLG23_EN-GA_properties.txt  \n",
            "  inflating: /content/triples2predArg/230528-WebNLG23_EN.conll  \n",
            "  inflating: /content/triples2predArg/classMembership/all_objValues.txt  \n",
            "  inflating: /content/triples2predArg/classMembership/all_subValues.txt  \n",
            "  inflating: /content/triples2predArg/classMembership/band_obj_all_validated.txt  \n",
            " extracting: /content/triples2predArg/classMembership/band_sub_all_validated.txt  \n",
            "  inflating: /content/triples2predArg/classMembership/band_validated - Copy.txt  \n",
            "  inflating: /content/triples2predArg/classMembership/female_obj_all_validated.txt  \n",
            "  inflating: /content/triples2predArg/classMembership/female_sub_all_validated.txt  \n",
            "  inflating: /content/triples2predArg/classMembership/obj_band.txt  \n",
            "  inflating: /content/triples2predArg/classMembership/obj_person.txt  \n",
            "  inflating: /content/triples2predArg/classMembership/person_obj_all_validated.txt  \n",
            "  inflating: /content/triples2predArg/classMembership/person_sub_all_validated.txt  \n",
            "  inflating: /content/triples2predArg/classMembership/sub_band.txt  \n",
            "  inflating: /content/triples2predArg/classMembership/sub_person.txt  \n",
            "  inflating: /content/triples2predArg/classMembership/test_objValues.txt  \n",
            "  inflating: /content/triples2predArg/libs/collection-0.7.jar  \n",
            "  inflating: /content/triples2predArg/libs/commons-cli-1.4.jar  \n",
            "  inflating: /content/triples2predArg/libs/commons-codec-1.11.jar  \n",
            "  inflating: /content/triples2predArg/libs/commons-compress-1.18.jar  \n",
            "  inflating: /content/triples2predArg/libs/commons-csv-1.5.jar  \n",
            "  inflating: /content/triples2predArg/libs/commons-io-2.4.jar  \n",
            "  inflating: /content/triples2predArg/libs/commons-lang3-3.4.jar  \n",
            "  inflating: /content/triples2predArg/libs/hamcrest-core-1.3.jar  \n",
            "  inflating: /content/triples2predArg/libs/httpclient-4.5.5.jar  \n",
            "  inflating: /content/triples2predArg/libs/httpclient-cache-4.5.5.jar  \n",
            "  inflating: /content/triples2predArg/libs/httpcore-4.4.9.jar  \n",
            "  inflating: /content/triples2predArg/libs/jackson-annotations-2.9.0.jar  \n",
            "  inflating: /content/triples2predArg/libs/jackson-core-2.9.9.jar  \n",
            "  inflating: /content/triples2predArg/libs/jackson-databind-2.9.9.jar  \n",
            "  inflating: /content/triples2predArg/libs/jcl-over-slf4j-1.7.26.jar  \n",
            "  inflating: /content/triples2predArg/libs/jena-arq-3.12.0.jar  \n",
            "  inflating: /content/triples2predArg/libs/jena-base-3.12.0.jar  \n",
            "  inflating: /content/triples2predArg/libs/jena-core-3.12.0.jar  \n",
            "  inflating: /content/triples2predArg/libs/jena-iri-3.12.0.jar  \n",
            "  inflating: /content/triples2predArg/libs/jena-shaded-guava-3.12.0.jar  \n",
            "  inflating: /content/triples2predArg/libs/jsonld-java-0.12.3.jar  \n",
            "  inflating: /content/triples2predArg/libs/junit-4.12.jar  \n",
            "  inflating: /content/triples2predArg/libs/libthrift-0.12.0.jar  \n",
            "  inflating: /content/triples2predArg/libs/slf4j-api-1.7.26.jar  \n",
            "  inflating: /content/triples2predArg/translations/all_objValues.txt  \n",
            "  inflating: /content/triples2predArg/translations/all_subValues.txt  \n",
            "  inflating: /content/triples2predArg/translations/dev_objValues.txt  \n",
            " extracting: /content/triples2predArg/translations/dev_subValues.txt  \n",
            "  inflating: /content/triples2predArg/translations/GA_Object_toTranslate-original.txt  \n",
            "  inflating: /content/triples2predArg/translations/GA_Object_toTranslate.txt  \n",
            "  inflating: /content/triples2predArg/translations/GA_Subject_toTranslate-original.txt  \n",
            "  inflating: /content/triples2predArg/translations/GA_Subject_toTranslate.txt  \n",
            "  inflating: /content/triples2predArg/translations/objValuesTest_dbpediaTranslations.txt  \n",
            "  inflating: /content/triples2predArg/translations/objValues_dbpediaTranslations.txt  \n",
            "  inflating: /content/triples2predArg/translations/objValues_googleTranslations.txt  \n",
            "  inflating: /content/triples2predArg/translations/objValues_needGoogleTranslations.txt  \n",
            "  inflating: /content/triples2predArg/translations/subValues_dbpediaTranslations.txt  \n",
            "  inflating: /content/triples2predArg/translations/subValues_googleTranslations.txt  \n",
            " extracting: /content/triples2predArg/translations/subValues_needGoogleTranslations.txt  \n",
            "  inflating: /content/triples2predArg/translations/test_objValues.txt  \n",
            " extracting: /content/triples2predArg/translations/test_subValues.txt  \n",
            "  inflating: /content/triples2predArg/translations/train_objValues.txt  \n",
            " extracting: /content/triples2predArg/translations/train_subValues.txt  \n",
            " extracting: /content/triples2predArg/translations/x_objValues_googleTranslations.txt  \n",
            " extracting: /content/triples2predArg/translations/x_subValues_googleTranslations.txt  \n",
            "  inflating: /content/triples2predArg/webNLG_triples2conll.jar  \n"
          ]
        }
      ]
    },
    {
      "source": [
        "# Unzip triple to predArg conversion\n",
        "triple2predArg = os.path.join(root_folder, 'triples2predArg')\n",
        "# Check if the directory exists, and only create it if it doesn't\n",
        "if not os.path.exists(triple2predArg):\n",
        "  os.makedirs(triple2predArg)\n",
        "zipPredArg =  os.path.join(root_folder, 'WikipediaPage_Generator', 'code', 'triples2predArg.zip')\n",
        "! unzip {zipPredArg} -d {triple2predArg}\n",
        "triple2Conll_jar = os.path.join(triple2predArg, 'webNLG_triples2conll.jar')"
      ],
      "cell_type": "code",
      "metadata": {
        "id": "4DUVdAoOclq2",
        "outputId": "04986e7c-5edd-4331-c506-11ce9cb6b4d9",
        "colab": {
          "base_uri": "https://localhost:8080/",
          "height": 1000
        }
      },
      "execution_count": 11,
      "outputs": [
        {
          "output_type": "display_data",
          "data": {
            "text/plain": [
              "<IPython.core.display.HTML object>"
            ],
            "text/html": [
              "\n",
              "  <style>\n",
              "    pre {\n",
              "        white-space: pre-wrap;\n",
              "    }\n",
              "  </style>\n",
              "  "
            ]
          },
          "metadata": {}
        },
        {
          "output_type": "stream",
          "name": "stdout",
          "text": [
            "Archive:  /content/WikipediaPage_Generator/code/triples2predArg.zip\n",
            "replace /content/triples2predArg/221130_WebNLG23_GA.conll? [y]es, [n]o, [A]ll, [N]one, [r]ename: A\n",
            "  inflating: /content/triples2predArg/221130_WebNLG23_GA.conll  \n",
            "  inflating: /content/triples2predArg/230528-WebNLG23_EN-GA_properties.txt  \n",
            "  inflating: /content/triples2predArg/230528-WebNLG23_EN.conll  \n",
            "  inflating: /content/triples2predArg/classMembership/all_objValues.txt  \n",
            "  inflating: /content/triples2predArg/classMembership/all_subValues.txt  \n",
            "  inflating: /content/triples2predArg/classMembership/band_obj_all_validated.txt  \n",
            " extracting: /content/triples2predArg/classMembership/band_sub_all_validated.txt  \n",
            "  inflating: /content/triples2predArg/classMembership/band_validated - Copy.txt  \n",
            "  inflating: /content/triples2predArg/classMembership/female_obj_all_validated.txt  \n",
            "  inflating: /content/triples2predArg/classMembership/female_sub_all_validated.txt  \n",
            "  inflating: /content/triples2predArg/classMembership/obj_band.txt  \n",
            "  inflating: /content/triples2predArg/classMembership/obj_person.txt  \n",
            "  inflating: /content/triples2predArg/classMembership/person_obj_all_validated.txt  \n",
            "  inflating: /content/triples2predArg/classMembership/person_sub_all_validated.txt  \n",
            "  inflating: /content/triples2predArg/classMembership/sub_band.txt  \n",
            "  inflating: /content/triples2predArg/classMembership/sub_person.txt  \n",
            "  inflating: /content/triples2predArg/classMembership/test_objValues.txt  \n",
            "  inflating: /content/triples2predArg/libs/collection-0.7.jar  \n",
            "  inflating: /content/triples2predArg/libs/commons-cli-1.4.jar  \n",
            "  inflating: /content/triples2predArg/libs/commons-codec-1.11.jar  \n",
            "  inflating: /content/triples2predArg/libs/commons-compress-1.18.jar  \n",
            "  inflating: /content/triples2predArg/libs/commons-csv-1.5.jar  \n",
            "  inflating: /content/triples2predArg/libs/commons-io-2.4.jar  \n",
            "  inflating: /content/triples2predArg/libs/commons-lang3-3.4.jar  \n",
            "  inflating: /content/triples2predArg/libs/hamcrest-core-1.3.jar  \n",
            "  inflating: /content/triples2predArg/libs/httpclient-4.5.5.jar  \n",
            "  inflating: /content/triples2predArg/libs/httpclient-cache-4.5.5.jar  \n",
            "  inflating: /content/triples2predArg/libs/httpcore-4.4.9.jar  \n",
            "  inflating: /content/triples2predArg/libs/jackson-annotations-2.9.0.jar  \n",
            "  inflating: /content/triples2predArg/libs/jackson-core-2.9.9.jar  \n",
            "  inflating: /content/triples2predArg/libs/jackson-databind-2.9.9.jar  \n",
            "  inflating: /content/triples2predArg/libs/jcl-over-slf4j-1.7.26.jar  \n",
            "  inflating: /content/triples2predArg/libs/jena-arq-3.12.0.jar  \n",
            "  inflating: /content/triples2predArg/libs/jena-base-3.12.0.jar  \n",
            "  inflating: /content/triples2predArg/libs/jena-core-3.12.0.jar  \n",
            "  inflating: /content/triples2predArg/libs/jena-iri-3.12.0.jar  \n",
            "  inflating: /content/triples2predArg/libs/jena-shaded-guava-3.12.0.jar  \n",
            "  inflating: /content/triples2predArg/libs/jsonld-java-0.12.3.jar  \n",
            "  inflating: /content/triples2predArg/libs/junit-4.12.jar  \n",
            "  inflating: /content/triples2predArg/libs/libthrift-0.12.0.jar  \n",
            "  inflating: /content/triples2predArg/libs/slf4j-api-1.7.26.jar  \n",
            "  inflating: /content/triples2predArg/translations/all_objValues.txt  \n",
            "  inflating: /content/triples2predArg/translations/all_subValues.txt  \n",
            "  inflating: /content/triples2predArg/translations/dev_objValues.txt  \n",
            " extracting: /content/triples2predArg/translations/dev_subValues.txt  \n",
            "  inflating: /content/triples2predArg/translations/GA_Object_toTranslate-original.txt  \n",
            "  inflating: /content/triples2predArg/translations/GA_Object_toTranslate.txt  \n",
            "  inflating: /content/triples2predArg/translations/GA_Subject_toTranslate-original.txt  \n",
            "  inflating: /content/triples2predArg/translations/GA_Subject_toTranslate.txt  \n",
            "  inflating: /content/triples2predArg/translations/objValuesTest_dbpediaTranslations.txt  \n",
            "  inflating: /content/triples2predArg/translations/objValues_dbpediaTranslations.txt  \n",
            "  inflating: /content/triples2predArg/translations/objValues_googleTranslations.txt  \n",
            "  inflating: /content/triples2predArg/translations/objValues_needGoogleTranslations.txt  \n",
            "  inflating: /content/triples2predArg/translations/subValues_dbpediaTranslations.txt  \n",
            "  inflating: /content/triples2predArg/translations/subValues_googleTranslations.txt  \n",
            " extracting: /content/triples2predArg/translations/subValues_needGoogleTranslations.txt  \n",
            "  inflating: /content/triples2predArg/translations/test_objValues.txt  \n",
            " extracting: /content/triples2predArg/translations/test_subValues.txt  \n",
            "  inflating: /content/triples2predArg/translations/train_objValues.txt  \n",
            " extracting: /content/triples2predArg/translations/train_subValues.txt  \n",
            " extracting: /content/triples2predArg/translations/x_objValues_googleTranslations.txt  \n",
            " extracting: /content/triples2predArg/translations/x_subValues_googleTranslations.txt  \n",
            "  inflating: /content/triples2predArg/webNLG_triples2conll.jar  \n"
          ]
        }
      ]
    },
    {
      "cell_type": "markdown",
      "metadata": {
        "id": "OgraqZRd3RWB"
      },
      "source": [
        "# Step 2: Get DBpedia properties associated with an entity name"
      ]
    },
    {
      "cell_type": "code",
      "execution_count": 32,
      "metadata": {
        "id": "AiNEj7cLylvu",
        "outputId": "b4f1ae08-90a4-4218-a5ca-1887ceec5f16",
        "colab": {
          "base_uri": "https://localhost:8080/",
          "height": 17
        }
      },
      "outputs": [
        {
          "output_type": "display_data",
          "data": {
            "text/plain": [
              "<IPython.core.display.HTML object>"
            ],
            "text/html": [
              "\n",
              "  <style>\n",
              "    pre {\n",
              "        white-space: pre-wrap;\n",
              "    }\n",
              "  </style>\n",
              "  "
            ]
          },
          "metadata": {}
        }
      ],
      "source": [
        "# @title Set parameters\n",
        "\n",
        "############# Type entity #############\n",
        "name = 'The Raspberry Pi Foundation'#@param {type:\"string\"}\n",
        "entity_name = ('_').join(name.split(' '))\n",
        "\n",
        "############# Select class #############\n",
        "category = 'Company'#@param['Unknown', 'Airport', 'Artist', 'Astronaut', 'Athlete', 'Building', 'CelestialBody', 'City', 'ComicsCharacter', 'Company', 'Film', 'Food', 'MeanOfTransportation', 'Monument', 'MusicalWork', 'Politician', 'Scientist', 'SportsTeam', 'University', 'WrittenWork']\n",
        "input_category = category\n",
        "\n",
        "############# Select language #############\n",
        "language = 'EN' #@param['EN', 'ES', 'GA']\n",
        "\n",
        "############# Triple source #############\n",
        "# To select where to get the triples from. Ontology is supposed to be cleaner but have less coverage.\n",
        "triple_source = 'Infobox' #@param['Ontology', 'Infobox']\n",
        "\n",
        "############# Set properties to discard #############\n",
        "ignore_properties = 'width, title'#@param {type:\"string\"}\n",
        "# print(ignore_properties_list)\n",
        "\n",
        "############# Select module grouping #############\n",
        "# Group consecutive modules for the same system or call each module separately.\n",
        "# Select 'no' to get all intermediate representations, 'yes' if you're only interested in the output.\n",
        "generate_intermediate_representations = 'no' #@param['yes', 'no']\n",
        "group_modules_prm = ''\n",
        "if generate_intermediate_representations == 'yes':\n",
        "  group_modules_prm = 'no'\n",
        "else:\n",
        "  group_modules_prm = 'yes'\n",
        "\n",
        "############# Select dataset split #############\n",
        "split = \"test\" #@param['dev', 'test','train','ukn']\n",
        "\n",
        "# print('Parameters set!')\n",
        "# print(entity_name)\n",
        "# print(input_category)\n",
        "# print(ignore_properties_list)"
      ]
    },
    {
      "cell_type": "code",
      "execution_count": 13,
      "metadata": {
        "id": "SSw0hkloXnV4",
        "collapsed": true,
        "cellView": "form",
        "outputId": "792b7c33-5784-4f80-fbf2-c95037bed9e9",
        "colab": {
          "base_uri": "https://localhost:8080/",
          "height": 69,
          "referenced_widgets": [
            "9b79366220fc4296b7efede264129967",
            "9551248c64f049ff8e150bc32876aeff",
            "c5e7e23bc7844f7a8443f31cb03abe7c"
          ]
        }
      },
      "outputs": [
        {
          "output_type": "display_data",
          "data": {
            "text/plain": [
              "<IPython.core.display.HTML object>"
            ],
            "text/html": [
              "\n",
              "  <style>\n",
              "    pre {\n",
              "        white-space: pre-wrap;\n",
              "    }\n",
              "  </style>\n",
              "  "
            ]
          },
          "metadata": {}
        },
        {
          "output_type": "display_data",
          "data": {
            "text/plain": [
              "SelectMultiple(description='Properties', layout=Layout(width='642px'), options=(), rows=0, value=())"
            ],
            "application/vnd.jupyter.widget-view+json": {
              "version_major": 2,
              "version_minor": 0,
              "model_id": "9b79366220fc4296b7efede264129967"
            }
          },
          "metadata": {}
        }
      ],
      "source": [
        "# @title Get DBpedia properties online\n",
        "import os\n",
        "import codecs\n",
        "import pickle\n",
        "import pandas as pd\n",
        "import ipywidgets as widgets\n",
        "from ipywidgets import Layout\n",
        "from WikipediaPage_Generator.code.queryDBpediaProps import get_dbpedia_properties\n",
        "\n",
        "# Format properties for passing as argument to python module\n",
        "list_triple_objects, list_propObj, list_obj = get_dbpedia_properties(props_list_path, entity_name, triple_source, ignore_properties)\n",
        "\n",
        "# Create property selector\n",
        "selected_properties = widgets.SelectMultiple(\n",
        "    options=list_propObj,\n",
        "    value=[],\n",
        "    rows=len(list_propObj),\n",
        "    description='Properties',\n",
        "    layout=Layout(width='642px'),\n",
        "    disabled=False\n",
        ")\n",
        "display(selected_properties)"
      ]
    },
    {
      "cell_type": "markdown",
      "metadata": {
        "id": "NMI7l59Z84B3"
      },
      "source": [
        "# Step 3: Generate text (18 cells)"
      ]
    },
    {
      "cell_type": "markdown",
      "metadata": {
        "id": "Jn-kiZwI9h1X"
      },
      "source": [
        "## Generation parameters"
      ]
    },
    {
      "cell_type": "code",
      "source": [
        "print(selected_properties)"
      ],
      "metadata": {
        "id": "Lm3kzZpE9omM",
        "outputId": "a2704d70-9424-4305-eed1-bef1849bf81d",
        "colab": {
          "base_uri": "https://localhost:8080/",
          "height": 0
        }
      },
      "execution_count": 21,
      "outputs": [
        {
          "output_type": "display_data",
          "data": {
            "text/plain": [
              "<IPython.core.display.HTML object>"
            ],
            "text/html": [
              "\n",
              "  <style>\n",
              "    pre {\n",
              "        white-space: pre-wrap;\n",
              "    }\n",
              "  </style>\n",
              "  "
            ]
          },
          "metadata": {}
        },
        {
          "output_type": "stream",
          "name": "stdout",
          "text": [
            "SelectMultiple(description='Properties', layout=Layout(width='642px'), options=(), rows=0, value=())\n"
          ]
        }
      ]
    },
    {
      "cell_type": "code",
      "execution_count": 15,
      "metadata": {
        "id": "vIntos-p9Y-H",
        "outputId": "865136fa-bff9-45eb-ef5a-59c9153b8dfa",
        "colab": {
          "base_uri": "https://localhost:8080/",
          "height": 17
        }
      },
      "outputs": [
        {
          "output_type": "display_data",
          "data": {
            "text/plain": [
              "<IPython.core.display.HTML object>"
            ],
            "text/html": [
              "\n",
              "  <style>\n",
              "    pre {\n",
              "        white-space: pre-wrap;\n",
              "    }\n",
              "  </style>\n",
              "  "
            ]
          },
          "metadata": {}
        }
      ],
      "source": [
        "#######################################################################\n",
        "\n",
        "# Modules to run, with type of processing (FORGe, Model1, SimpleNLG, etc.).\n",
        "# Only FORGe is supported for this prototype version.\n",
        "PredArg_Normalisation = 'FORGe'\n",
        "# To have an external module assigning triples to aggregate\n",
        "PredArg_AggregationMark = 'None'\n",
        "PredArg_Aggregation = 'FORGe'\n",
        "PredArg_PoSTagging = 'FORGe'\n",
        "PredArg_CommStructuring = 'FORGe'\n",
        "DSynt_Structuring = 'FORGe'\n",
        "SSynt_Structuring = 'FORGe'\n",
        "SSynt_Aggregation = 'FORGe'\n",
        "RE_Generation = 'FORGe'\n",
        "DMorph_AgreementsLinearisation = 'FORGe'\n",
        "SMorph_Processing = 'FORGe'\n",
        "\n",
        "#######################################################################\n",
        "# Paths to python files\n",
        "path_MFleNS = os.path.join(root_folder, 'M-FleNS_NLG-Pipeline', 'code', 'M-FleNS.py')\n",
        "path_checkOutputs = os.path.join(root_folder, 'M-FleNS_NLG-Pipeline', 'code', 'M-FleNS-checkOutputs.py')\n",
        "path_postProc = os.path.join(root_folder, 'M-FleNS_NLG-Pipeline', 'code', 'postProcess.py')\n",
        "path_FORGe2Morph = os.path.join(root_folder, 'DCU_TCD_FORGe_WebNLG23', 'code', 'FORGe2Morph.py')\n",
        "path_concatenate = os.path.join(root_folder, 'M-FleNS_NLG-Pipeline', 'code', 'concatenate_files.py')\n",
        "path_getClassGenderDBp = os.path.join(root_folder, 'M-FleNS_NLG-Pipeline', 'code', 'getClassGenderDBpedia.py')\n",
        "# path_MorphGen = '/content/DCU_TCD_FORGe_WebNLG23/code/IrishNLP_MorphGen.py'\n",
        "\n",
        "#######################################################################\n",
        "# Paths to FORGe/MATE folders and property files\n",
        "FORGe_input_folder = os.path.join(root_folder, 'FORGe', 'buddy_project', 'struct')\n",
        "path_MATE = os.path.join(root_folder, 'FORGe', 'buddy-patched.jar')\n",
        "path_props_resources_template = os.path.join(root_folder, 'FORGe', 'mateColabDrive.properties')\n",
        "path_props_levels = os.path.join(root_folder, 'FORGe', 'mateLevels.properties')\n",
        "path_props = os.path.join(root_folder, 'FORGe', '/mate.properties')\n",
        "\n",
        "# Paths to general folders\n",
        "# The input structure(s) of the correct type should be placed in the folder that corresponds to the first module called in the next cell\n",
        "path_strs = os.path.join(root_folder, 'FORGe', 'structures')\n",
        "str_PredArg_folder = os.path.join(path_strs, '00-PredArg')\n",
        "str_PredArgNorm_folder = os.path.join(path_strs, '01-PredArgNorm')\n",
        "str_PredArgAggMark_folder = os.path.join(path_strs, '02-PredArgAggMark')\n",
        "str_PredArgAgg_folder = os.path.join(path_strs, '03-PredArgAgg')\n",
        "str_PredArgPoS_folder = os.path.join(path_strs, '04-PredArgPoS')\n",
        "str_PredArgComm_folder = os.path.join(path_strs, '05-PredArgComm')\n",
        "str_DSynt_folder = os.path.join(path_strs, '06-DSynt')\n",
        "str_SSynt_folder = os.path.join(path_strs, '07-SSynt')\n",
        "str_SSyntAgg_folder = os.path.join(path_strs, '08-SSyntAgg')\n",
        "str_REG_folder = os.path.join(path_strs, '09-REG')\n",
        "str_DMorphLin_folder = os.path.join(path_strs, '10-DMorphLin')\n",
        "str_SMorphText_folder = os.path.join(path_strs, '11-SMorphText')\n",
        "log_folder = os.path.join(root_folder, 'FORGe', 'log')\n",
        "if not os.path.exists(log_folder):\n",
        "  os.makedirs(log_folder)\n",
        "temp_input_folder_morph = os.path.join(root_folder, 'FORGe-out')\n",
        "if not os.path.exists(temp_input_folder_morph):\n",
        "  os.makedirs(temp_input_folder_morph)"
      ]
    },
    {
      "cell_type": "markdown",
      "metadata": {
        "id": "pB1FkV2V5alI"
      },
      "source": [
        "## Step 3.1: Convert DBpedia triples to linguistic structures"
      ]
    },
    {
      "cell_type": "code",
      "execution_count": 22,
      "metadata": {
        "id": "oGeXtgqxoSPb",
        "outputId": "b6b56e75-2fde-4869-a177-f87b7966fab0",
        "colab": {
          "base_uri": "https://localhost:8080/",
          "height": 17
        }
      },
      "outputs": [
        {
          "output_type": "display_data",
          "data": {
            "text/plain": [
              "<IPython.core.display.HTML object>"
            ],
            "text/html": [
              "\n",
              "  <style>\n",
              "    pre {\n",
              "        white-space: pre-wrap;\n",
              "    }\n",
              "  </style>\n",
              "  "
            ]
          },
          "metadata": {}
        }
      ],
      "source": [
        "#@title Convert chosen triples to XML and create LLM prompt\n",
        "from WikipediaPage_Generator.code.utils import get_prop_index_from_table, removeReservedCharsFileName, create_xml, create_GPT_Prompt\n",
        "\n",
        "# Generate list of indices of properties selected by user (index in the list of Triple objects that contains all retrieved triples)\n",
        "properties_selected_by_user = get_prop_index_from_table(selected_properties, list_triple_objects)\n",
        "\n",
        "# create xml file and retrieve the list of triples in a text format to build a ChatGPT query, saved in GPT_prompt_{entity}.txt on the left\n",
        "list_triples_text = create_xml(list_triple_objects, properties_selected_by_user, input_category, triple2predArg)\n",
        "\n",
        "# Create a text file that contains a prompt that can be used to produce another version of the current text with GPT.\n",
        "create_GPT_Prompt(entity_name, language, list_triples_text, '/content')"
      ]
    },
    {
      "cell_type": "code",
      "execution_count": 23,
      "metadata": {
        "id": "QHLg4mNsRUfj",
        "outputId": "84ccd4b1-78fa-4e0f-bd9f-5297addb1387",
        "colab": {
          "base_uri": "https://localhost:8080/",
          "height": 243
        }
      },
      "outputs": [
        {
          "output_type": "display_data",
          "data": {
            "text/plain": [
              "<IPython.core.display.HTML object>"
            ],
            "text/html": [
              "\n",
              "  <style>\n",
              "    pre {\n",
              "        white-space: pre-wrap;\n",
              "    }\n",
              "  </style>\n",
              "  "
            ]
          },
          "metadata": {}
        },
        {
          "output_type": "stream",
          "name": "stdout",
          "text": [
            "Querying DBpedia for subjects of input triples...\n",
            "/ |#                                                  | 0 Elapsed Time: 0:00:00\n",
            "No objects to query.\n",
            "\n",
            "\n",
            "Band-sbj: []\n",
            "Band-obj: []\n",
            "Fem-sbj: []\n",
            "Fem-obj: []\n",
            "Per-sbj: []\n",
            "Per-obj: []\n"
          ]
        }
      ],
      "source": [
        "#@title Get and write class and gender information from DBpedia\n",
        "from WikipediaPage_Generator.code.utils import create_jsons_SubjAndObj\n",
        "\n",
        "# Create json files for entities we need to query DBpedia about\n",
        "filepath_subj, filepath_obj = create_jsons_SubjAndObj(entity_name, list_obj, triple2predArg)\n",
        "# Get class and gender via DBpedia query\n",
        "! python {path_getClassGenderDBp} {filepath_subj} {filepath_obj} {root_folder}"
      ]
    },
    {
      "cell_type": "code",
      "execution_count": 24,
      "metadata": {
        "id": "xGu3-Vj75gQc",
        "outputId": "a67c23d7-5b7d-40b3-f734-28aeb659fb4d",
        "colab": {
          "base_uri": "https://localhost:8080/",
          "height": 862
        }
      },
      "outputs": [
        {
          "output_type": "display_data",
          "data": {
            "text/plain": [
              "<IPython.core.display.HTML object>"
            ],
            "text/html": [
              "\n",
              "  <style>\n",
              "    pre {\n",
              "        white-space: pre-wrap;\n",
              "    }\n",
              "  </style>\n",
              "  "
            ]
          },
          "metadata": {}
        },
        {
          "output_type": "stream",
          "name": "stdout",
          "text": [
            "Exception in thread \"main\" java.io.FileNotFoundException: File '/content/triples2predArg/The_Radpberry_Pi_Foundation.xml' does not exist\n",
            "\tat org.apache.commons.io.FileUtils.openInputStream(FileUtils.java:299)\n",
            "\tat org.apache.commons.io.FileUtils.readFileToString(FileUtils.java:1711)\n",
            "\tat org.apache.commons.io.FileUtils.readFileToString(FileUtils.java:1734)\n",
            "\tat dbpedia2NL.webNLG_20.ReadProperties.getEntryTriples(ReadProperties.java:49)\n",
            "\tat dbpedia2NL.webNLG_20.Triples2Conll.Triples2Conll(Triples2Conll.java:72)\n",
            "\tat dbpedia2NL.webNLG_20.Triples2Conll.main(Triples2Conll.java:14)\n"
          ]
        },
        {
          "output_type": "error",
          "ename": "FileNotFoundError",
          "evalue": "[Errno 2] No such file or directory: '/content/triples2predArg/out/The_Radpberry_Pi_Foundation_en.conll'",
          "traceback": [
            "\u001b[0;31m---------------------------------------------------------------------------\u001b[0m",
            "\u001b[0;31mFileNotFoundError\u001b[0m                         Traceback (most recent call last)",
            "\u001b[0;32m<ipython-input-24-be07f37ea85d>\u001b[0m in \u001b[0;36m<cell line: 0>\u001b[0;34m()\u001b[0m\n\u001b[1;32m      9\u001b[0m \u001b[0;34m\u001b[0m\u001b[0m\n\u001b[1;32m     10\u001b[0m \u001b[0;31m# Copy conll file to FORGe input folder\u001b[0m\u001b[0;34m\u001b[0m\u001b[0;34m\u001b[0m\u001b[0m\n\u001b[0;32m---> 11\u001b[0;31m \u001b[0mshutil\u001b[0m\u001b[0;34m.\u001b[0m\u001b[0mcopy\u001b[0m\u001b[0;34m(\u001b[0m\u001b[0mos\u001b[0m\u001b[0;34m.\u001b[0m\u001b[0mpath\u001b[0m\u001b[0;34m.\u001b[0m\u001b[0mjoin\u001b[0m\u001b[0;34m(\u001b[0m\u001b[0mpath_t2p_out\u001b[0m\u001b[0;34m,\u001b[0m \u001b[0mnewEntityName\u001b[0m\u001b[0;34m+\u001b[0m\u001b[0;34m'_'\u001b[0m\u001b[0;34m+\u001b[0m\u001b[0mlanguage_t2p\u001b[0m\u001b[0;34m+\u001b[0m\u001b[0;34m'.conll'\u001b[0m\u001b[0;34m)\u001b[0m\u001b[0;34m,\u001b[0m \u001b[0mstr_PredArg_folder\u001b[0m\u001b[0;34m)\u001b[0m\u001b[0;34m\u001b[0m\u001b[0;34m\u001b[0m\u001b[0m\n\u001b[0m",
            "\u001b[0;32m/usr/lib/python3.11/shutil.py\u001b[0m in \u001b[0;36mcopy\u001b[0;34m(src, dst, follow_symlinks)\u001b[0m\n\u001b[1;32m    429\u001b[0m     \u001b[0;32mif\u001b[0m \u001b[0mos\u001b[0m\u001b[0;34m.\u001b[0m\u001b[0mpath\u001b[0m\u001b[0;34m.\u001b[0m\u001b[0misdir\u001b[0m\u001b[0;34m(\u001b[0m\u001b[0mdst\u001b[0m\u001b[0;34m)\u001b[0m\u001b[0;34m:\u001b[0m\u001b[0;34m\u001b[0m\u001b[0;34m\u001b[0m\u001b[0m\n\u001b[1;32m    430\u001b[0m         \u001b[0mdst\u001b[0m \u001b[0;34m=\u001b[0m \u001b[0mos\u001b[0m\u001b[0;34m.\u001b[0m\u001b[0mpath\u001b[0m\u001b[0;34m.\u001b[0m\u001b[0mjoin\u001b[0m\u001b[0;34m(\u001b[0m\u001b[0mdst\u001b[0m\u001b[0;34m,\u001b[0m \u001b[0mos\u001b[0m\u001b[0;34m.\u001b[0m\u001b[0mpath\u001b[0m\u001b[0;34m.\u001b[0m\u001b[0mbasename\u001b[0m\u001b[0;34m(\u001b[0m\u001b[0msrc\u001b[0m\u001b[0;34m)\u001b[0m\u001b[0;34m)\u001b[0m\u001b[0;34m\u001b[0m\u001b[0;34m\u001b[0m\u001b[0m\n\u001b[0;32m--> 431\u001b[0;31m     \u001b[0mcopyfile\u001b[0m\u001b[0;34m(\u001b[0m\u001b[0msrc\u001b[0m\u001b[0;34m,\u001b[0m \u001b[0mdst\u001b[0m\u001b[0;34m,\u001b[0m \u001b[0mfollow_symlinks\u001b[0m\u001b[0;34m=\u001b[0m\u001b[0mfollow_symlinks\u001b[0m\u001b[0;34m)\u001b[0m\u001b[0;34m\u001b[0m\u001b[0;34m\u001b[0m\u001b[0m\n\u001b[0m\u001b[1;32m    432\u001b[0m     \u001b[0mcopymode\u001b[0m\u001b[0;34m(\u001b[0m\u001b[0msrc\u001b[0m\u001b[0;34m,\u001b[0m \u001b[0mdst\u001b[0m\u001b[0;34m,\u001b[0m \u001b[0mfollow_symlinks\u001b[0m\u001b[0;34m=\u001b[0m\u001b[0mfollow_symlinks\u001b[0m\u001b[0;34m)\u001b[0m\u001b[0;34m\u001b[0m\u001b[0;34m\u001b[0m\u001b[0m\n\u001b[1;32m    433\u001b[0m     \u001b[0;32mreturn\u001b[0m \u001b[0mdst\u001b[0m\u001b[0;34m\u001b[0m\u001b[0;34m\u001b[0m\u001b[0m\n",
            "\u001b[0;32m/usr/lib/python3.11/shutil.py\u001b[0m in \u001b[0;36mcopyfile\u001b[0;34m(src, dst, follow_symlinks)\u001b[0m\n\u001b[1;32m    254\u001b[0m         \u001b[0mos\u001b[0m\u001b[0;34m.\u001b[0m\u001b[0msymlink\u001b[0m\u001b[0;34m(\u001b[0m\u001b[0mos\u001b[0m\u001b[0;34m.\u001b[0m\u001b[0mreadlink\u001b[0m\u001b[0;34m(\u001b[0m\u001b[0msrc\u001b[0m\u001b[0;34m)\u001b[0m\u001b[0;34m,\u001b[0m \u001b[0mdst\u001b[0m\u001b[0;34m)\u001b[0m\u001b[0;34m\u001b[0m\u001b[0;34m\u001b[0m\u001b[0m\n\u001b[1;32m    255\u001b[0m     \u001b[0;32melse\u001b[0m\u001b[0;34m:\u001b[0m\u001b[0;34m\u001b[0m\u001b[0;34m\u001b[0m\u001b[0m\n\u001b[0;32m--> 256\u001b[0;31m         \u001b[0;32mwith\u001b[0m \u001b[0mopen\u001b[0m\u001b[0;34m(\u001b[0m\u001b[0msrc\u001b[0m\u001b[0;34m,\u001b[0m \u001b[0;34m'rb'\u001b[0m\u001b[0;34m)\u001b[0m \u001b[0;32mas\u001b[0m \u001b[0mfsrc\u001b[0m\u001b[0;34m:\u001b[0m\u001b[0;34m\u001b[0m\u001b[0;34m\u001b[0m\u001b[0m\n\u001b[0m\u001b[1;32m    257\u001b[0m             \u001b[0;32mtry\u001b[0m\u001b[0;34m:\u001b[0m\u001b[0;34m\u001b[0m\u001b[0;34m\u001b[0m\u001b[0m\n\u001b[1;32m    258\u001b[0m                 \u001b[0;32mwith\u001b[0m \u001b[0mopen\u001b[0m\u001b[0;34m(\u001b[0m\u001b[0mdst\u001b[0m\u001b[0;34m,\u001b[0m \u001b[0;34m'wb'\u001b[0m\u001b[0;34m)\u001b[0m \u001b[0;32mas\u001b[0m \u001b[0mfdst\u001b[0m\u001b[0;34m:\u001b[0m\u001b[0;34m\u001b[0m\u001b[0;34m\u001b[0m\u001b[0m\n",
            "\u001b[0;31mFileNotFoundError\u001b[0m: [Errno 2] No such file or directory: '/content/triples2predArg/out/The_Radpberry_Pi_Foundation_en.conll'"
          ]
        }
      ],
      "source": [
        "#@title  Create FORGe input file (conll format)\n",
        "import shutil\n",
        "from WikipediaPage_Generator.code.utils import prepare_variables_xml2CoNLL_conversion\n",
        "\n",
        "# Get all variables\n",
        "new_triple2predArg, name_conll_templates, path_t2p_out, language_t2p, newEntityName = prepare_variables_xml2CoNLL_conversion(str_PredArg_folder, language, entity_name, triple2predArg)\n",
        "# Convert xml into predArg\n",
        "!java -jar {triple2Conll_jar} {new_triple2predArg} {name_conll_templates} '230528-WebNLG23_EN-GA_properties.txt' {path_t2p_out} {language_t2p} {newEntityName}  # -> \"log.txt\"\n",
        "\n",
        "# Copy conll file to FORGe input folder\n",
        "shutil.copy(os.path.join(path_t2p_out, newEntityName+'_'+language_t2p+'.conll'), str_PredArg_folder)"
      ]
    },
    {
      "source": [
        "!java -jar {triple2Conll_jar} {new_triple2predArg} {name_conll_templates} '230528-WebNLG23_EN-GA_properties.txt' {path_t2p_out} {language_t2p} {newEntityName}  # -> \"log.txt\""
      ],
      "cell_type": "code",
      "metadata": {
        "id": "ghqmr3WZc0j8"
      },
      "execution_count": null,
      "outputs": []
    },
    {
      "source": [
        "#@title  Create FORGe input file (conll format)\n",
        "import shutil\n",
        "from WikipediaPage_Generator.code.utils import prepare_variables_xml2CoNLL_conversion\n",
        "\n",
        "# Get all variables\n",
        "new_triple2predArg, name_conll_templates, path_t2p_out, language_t2p, newEntityName = prepare_variables_xml2CoNLL_conversion(str_PredArg_folder, language, entity_name, triple2predArg)\n",
        "# Convert xml into predArg\n",
        "!java -jar {triple2Conll_jar} {new_triple2predArg} {name_conll_templates} '230528-WebNLG23_EN-GA_properties.txt' {path_t2p_out} {language_t2p} {newEntityName}  # -> \"log.txt\"\n",
        "\n",
        "# Check if the conll file was generated\n",
        "conll_file_path = os.path.join(path_t2p_out, newEntityName + '_' + language_t2p + '.conll')\n",
        "if os.path.exists(conll_file_path):\n",
        "  # Copy conll file to FORGe input folder\n",
        "  shutil.copy(conll_file_path, str_PredArg_folder)\n",
        "else:\n",
        "  print(f\"Error: Conll file not found at {conll_file_path}\")\n",
        "  # Add debugging or error handling logic here"
      ],
      "cell_type": "code",
      "metadata": {
        "id": "Xp2mTBRDc3X-"
      },
      "execution_count": null,
      "outputs": []
    },
    {
      "cell_type": "markdown",
      "metadata": {
        "id": "8Hs0EEb-5ppQ"
      },
      "source": [
        "## Step 3.2: Convert linguistic structures into non-inflected Irish text (FORGe generator)"
      ]
    },
    {
      "cell_type": "code",
      "execution_count": null,
      "metadata": {
        "id": "fSje-IhV5pH4"
      },
      "outputs": [],
      "source": [
        "#@title  Launch generation process\n",
        "! python {path_MFleNS} {language} {split} {group_modules_prm} {PredArg_Normalisation} {PredArg_AggregationMark} {PredArg_Aggregation} {PredArg_PoSTagging} {PredArg_CommStructuring} {DSynt_Structuring} {SSynt_Structuring} {SSynt_Aggregation} {RE_Generation} {DMorph_AgreementsLinearisation} {SMorph_Processing} {FORGe_input_folder} {path_MATE} {path_props_resources_template} {path_props_levels} {path_props} {str_PredArg_folder} {str_PredArgNorm_folder} {str_PredArgAggMark_folder} {str_PredArgAgg_folder} {str_PredArgPoS_folder} {str_PredArgComm_folder} {str_DSynt_folder} {str_SSynt_folder} {str_SSyntAgg_folder} {str_REG_folder} {str_DMorphLin_folder} {str_SMorphText_folder} {log_folder}\n"
      ]
    },
    {
      "cell_type": "code",
      "execution_count": null,
      "metadata": {
        "id": "a_AUx4SF5w4s"
      },
      "outputs": [],
      "source": [
        "#@title Check outputs and copy files to morph folder\n",
        "from WikipediaPage_Generator.code.utils import clear_folder\n",
        "\n",
        "! python {path_checkOutputs} {str_PredArg_folder} {str_SMorphText_folder} {log_folder} {temp_input_folder_morph} {language}\n",
        "\n",
        "if not language == 'GA':\n",
        "  clear_folder(os.path.join(temp_input_folder_morph, split))\n",
        "  # For GA, files are copied from the python code called above\n",
        "  ! python {path_concatenate} {str_SMorphText_folder} {temp_input_folder_morph} {split}"
      ]
    },
    {
      "cell_type": "markdown",
      "metadata": {
        "id": "Zwt_QCsb5yvk"
      },
      "source": [
        "## Step 3.3: Inflect Irish text (Irish NLP tools)"
      ]
    },
    {
      "cell_type": "code",
      "execution_count": 40,
      "metadata": {
        "id": "lQkLf0cJ582k",
        "outputId": "cdcc8ab2-7eab-43e2-8480-23ec8efa154a",
        "colab": {
          "base_uri": "https://localhost:8080/",
          "height": 52
        }
      },
      "outputs": [
        {
          "output_type": "display_data",
          "data": {
            "text/plain": [
              "<IPython.core.display.HTML object>"
            ],
            "text/html": [
              "\n",
              "  <style>\n",
              "    pre {\n",
              "        white-space: pre-wrap;\n",
              "    }\n",
              "  </style>\n",
              "  "
            ]
          },
          "metadata": {}
        },
        {
          "output_type": "stream",
          "name": "stdout",
          "text": [
            "Expected texts: 0.\n",
            "\n"
          ]
        }
      ],
      "source": [
        "#@title Process raw FORGe output and format it for Morphology\n",
        "from WikipediaPage_Generator.code.utils import clear_files, count_expected_texts\n",
        "\n",
        "count_strs_all_FORGe = count_expected_texts(root_folder)\n",
        "print('Expected texts: '+str(count_strs_all_FORGe)+'.\\n')\n",
        "\n",
        "if language == 'GA':\n",
        "  ! python {path_FORGe2Morph} {language} {temp_input_folder_morph} {morph_input_folder}\n",
        "  clear_files(temp_input_folder_morph)"
      ]
    },
    {
      "source": [
        "#@title  Launch generation process\n",
        "! python {path_MFleNS} {language} {split} {group_modules_prm} {PredArg_Normalisation} {PredArg_AggregationMark} {PredArg_Aggregation} {PredArg_PoSTagging} {PredArg_CommStructuring} {DSynt_Structuring} {SSynt_Structuring} {SSynt_Aggregation} {RE_Generation} {DMorph_AgreementsLinearisation} {SMorph_Processing} {FORGe_input_folder} {path_MATE} {path_props_resources_template} {path_props_levels} {path_props} {str_PredArg_folder} {str_PredArgNorm_folder} {str_PredArgAggMark_folder} {str_PredArgAgg_folder} {str_PredArgPoS_folder} {str_PredArgComm_folder} {str_DSynt_folder} {str_SSynt_folder} {str_SSyntAgg_folder} {str_REG_folder} {str_DMorphLin_folder} {str_SMorphText_folder} {log_folder}\n",
        "\n",
        "# Check if summary.txt exists, and if not, create an empty one\n",
        "summary_file_path = os.path.join(root_folder, 'FORGe', 'log', 'summary.txt')\n",
        "if not os.path.exists(summary_file_path):\n",
        "  with open(summary_file_path, 'w') as f:\n",
        "    pass # Create an empty file if it doesn't exist"
      ],
      "cell_type": "code",
      "metadata": {
        "id": "YQYdsOQKdQCe",
        "outputId": "317c0c21-57f2-4bc8-b6d7-361193fbc500",
        "colab": {
          "base_uri": "https://localhost:8080/",
          "height": 662
        }
      },
      "execution_count": 26,
      "outputs": [
        {
          "output_type": "display_data",
          "data": {
            "text/plain": [
              "<IPython.core.display.HTML object>"
            ],
            "text/html": [
              "\n",
              "  <style>\n",
              "    pre {\n",
              "        white-space: pre-wrap;\n",
              "    }\n",
              "  </style>\n",
              "  "
            ]
          },
          "metadata": {}
        },
        {
          "output_type": "stream",
          "name": "stdout",
          "text": [
            "Preparing generation pipeline...\n",
            "  -> Initial structure is ['PredArg'].\n",
            "  -> 10 modules were selected.\n",
            "  -> Sequence: ['PredArgNorm', 'PredArgAgg', 'PredArgPoS', 'PredArgComm', 'DSynt', 'SSynt', 'SSyntAgg', 'REG', 'DMorphLin', 'SMorphText']\n",
            "  -> The pipeline looks good, proceeding...\n",
            "--------------------------\n",
            "Running FORGe\n",
            "--------------------------\n",
            "  Running ['10_Con_Sem.rl', '11.1_Con_Agg1.rl', '11.2_Con_Agg2.rl', '11.3_Con_Agg3.rl', '11.4_Con_Agg4.rl', '13_Sem_SemPoS.rl', '15_SemPoS_SemCommMark.rl', '17_SemCommMark_SemComm.rl', '20_SemComm_DSynt.rl', '30_DSynt_SSynt.rl', '35_SSynt_PostProc.rl', '37.1_SSynt_Agg1.rl', '37.2_SSynt_Agg2.rl', '38.1_SSynt_REG1.rl', '38.2_SSynt_REG2.rl', '40_SSynt_DMorph_linearize.rl', '50_DMorph_SMorph.rl', '60_Smorph_Sentence.rl'] on files in /content/FORGe/structures/00-PredArg...\n",
            "=================================================\n",
            "All done!\n"
          ]
        }
      ]
    },
    {
      "cell_type": "code",
      "execution_count": 27,
      "metadata": {
        "id": "_BROPwE05-iF",
        "outputId": "19c2103d-3498-4ed6-9df7-088a66eb80e6",
        "colab": {
          "base_uri": "https://localhost:8080/",
          "height": 17
        }
      },
      "outputs": [
        {
          "output_type": "display_data",
          "data": {
            "text/plain": [
              "<IPython.core.display.HTML object>"
            ],
            "text/html": [
              "\n",
              "  <style>\n",
              "    pre {\n",
              "        white-space: pre-wrap;\n",
              "    }\n",
              "  </style>\n",
              "  "
            ]
          },
          "metadata": {}
        }
      ],
      "source": [
        "#@title Run the morphology generation\n",
        "from DCU_TCD_FORGe_WebNLG23.code.GA_inflect import run_GA_morphGen\n",
        "\n",
        "show_input = False #@param {type:\"boolean\"}\n",
        "\n",
        "if language == 'GA':\n",
        "  run_GA_morphGen(root_folder, morph_folder_name, morph_input_folder, morph_output_folder, count_strs_all_FORGe, show_input)"
      ]
    },
    {
      "cell_type": "markdown",
      "metadata": {
        "id": "3A-5vnL46Dy0"
      },
      "source": [
        "## Step 3.4: Post-process output"
      ]
    },
    {
      "cell_type": "code",
      "execution_count": 41,
      "metadata": {
        "id": "SmpUvibw6H2z",
        "outputId": "86b1efaf-c1e1-4a78-b020-16f86d4c2ad5",
        "colab": {
          "base_uri": "https://localhost:8080/",
          "height": 69
        }
      },
      "outputs": [
        {
          "output_type": "display_data",
          "data": {
            "text/plain": [
              "<IPython.core.display.HTML object>"
            ],
            "text/html": [
              "\n",
              "  <style>\n",
              "    pre {\n",
              "        white-space: pre-wrap;\n",
              "    }\n",
              "  </style>\n",
              "  "
            ]
          },
          "metadata": {}
        },
        {
          "output_type": "stream",
          "name": "stdout",
          "text": [
            "\n",
            "There are 0 texts.\n",
            "Texts per file: []\n"
          ]
        }
      ],
      "source": [
        "#@title Process texts\n",
        "from WikipediaPage_Generator.code.utils import check_postProcessed_outputs\n",
        "\n",
        "prefinal_output_folder = ''\n",
        "if language == 'GA':\n",
        "  prefinal_output_folder = morph_output_folder\n",
        "else:\n",
        "  prefinal_output_folder = os.path.join(temp_input_folder_morph, split)\n",
        "\n",
        "# Post-process texts\n",
        "! python {path_postProc} {language} {prefinal_output_folder}\n",
        "\n",
        "# Check post-processed texts\n",
        "check_postProcessed_outputs(root_folder, prefinal_output_folder, count_strs_all_FORGe)"
      ]
    },
    {
      "source": [
        "#@title Process texts\n",
        "from WikipediaPage_Generator.code.utils import check_postProcessed_outputs, count_expected_texts # Import count_expected_texts here\n",
        "\n",
        "prefinal_output_folder = ''\n",
        "if language == 'GA':\n",
        "  prefinal_output_folder = morph_output_folder\n",
        "else:\n",
        "  prefinal_output_folder = os.path.join(temp_input_folder_morph, split)\n",
        "\n",
        "# Get the count of expected texts\n",
        "count_strs_all_FORGe = count_expected_texts(root_folder)  # Calculate the value here\n",
        "\n",
        "# Post-process texts\n",
        "! python {path_postProc} {language} {prefinal_output_folder}\n",
        "\n",
        "# Check post-processed texts\n",
        "check_postProcessed_outputs(root_folder, prefinal_output_folder, count_strs_all_FORGe)"
      ],
      "cell_type": "code",
      "metadata": {
        "id": "Kst69fPVdsR5",
        "outputId": "8934219a-ae9b-4319-8d79-79a68081e916",
        "colab": {
          "base_uri": "https://localhost:8080/",
          "height": 69
        }
      },
      "execution_count": 34,
      "outputs": [
        {
          "output_type": "display_data",
          "data": {
            "text/plain": [
              "<IPython.core.display.HTML object>"
            ],
            "text/html": [
              "\n",
              "  <style>\n",
              "    pre {\n",
              "        white-space: pre-wrap;\n",
              "    }\n",
              "  </style>\n",
              "  "
            ]
          },
          "metadata": {}
        },
        {
          "output_type": "stream",
          "name": "stdout",
          "text": [
            "\n",
            "There are 0 texts.\n",
            "Texts per file: []\n"
          ]
        }
      ]
    },
    {
      "source": [
        "#@title Process texts\n",
        "from WikipediaPage_Generator.code.utils import check_postProcessed_outputs, count_expected_texts # Import count_expected_texts here\n",
        "\n",
        "prefinal_output_folder = ''\n",
        "if language == 'GA':\n",
        "  prefinal_output_folder = morph_output_folder\n",
        "else:\n",
        "  prefinal_output_folder = os.path.join(temp_input_folder_morph, split)\n",
        "\n",
        "# Get the count of expected texts\n",
        "count_strs_all_FORGe = count_expected_texts(root_folder)  # Calculate the value here\n",
        "\n",
        "# Post-process texts\n",
        "! python {path_postProc} {language} {prefinal_output_folder}\n",
        "\n",
        "# Check post-processed texts\n",
        "check_postProcessed_outputs(root_folder, prefinal_output_folder, count_strs_all_FORGe)"
      ],
      "cell_type": "code",
      "metadata": {
        "id": "JWEPyaJ9da9p",
        "outputId": "38300c34-f020-4dfe-da41-8377b2514ee0",
        "colab": {
          "base_uri": "https://localhost:8080/",
          "height": 69
        }
      },
      "execution_count": 29,
      "outputs": [
        {
          "output_type": "display_data",
          "data": {
            "text/plain": [
              "<IPython.core.display.HTML object>"
            ],
            "text/html": [
              "\n",
              "  <style>\n",
              "    pre {\n",
              "        white-space: pre-wrap;\n",
              "    }\n",
              "  </style>\n",
              "  "
            ]
          },
          "metadata": {}
        },
        {
          "output_type": "stream",
          "name": "stdout",
          "text": [
            "\n",
            "There are 0 texts.\n",
            "Texts per file: []\n"
          ]
        }
      ]
    },
    {
      "cell_type": "code",
      "execution_count": 46,
      "metadata": {
        "id": "h_fZLFg06Jnz",
        "outputId": "5f13ef0d-a97f-43f2-c96f-4faf5f918842",
        "colab": {
          "base_uri": "https://localhost:8080/",
          "height": 69
        }
      },
      "outputs": [
        {
          "output_type": "display_data",
          "data": {
            "text/plain": [
              "<IPython.core.display.HTML object>"
            ],
            "text/html": [
              "\n",
              "  <style>\n",
              "    pre {\n",
              "        white-space: pre-wrap;\n",
              "    }\n",
              "  </style>\n",
              "  "
            ]
          },
          "metadata": {}
        },
        {
          "output_type": "stream",
          "name": "stdout",
          "text": [
            "[]\n",
            "\n",
            "There are 0 texts.\n"
          ]
        }
      ],
      "source": [
        "#@title Concatenate files\n",
        "# import glob\n",
        "from WikipediaPage_Generator.code.utils import concatenate_files_UI\n",
        "\n",
        "filename = concatenate_files_UI(root_folder, morph_output_folder, temp_input_folder_morph, split, language, count_strs_all_FORGe, entity_name, '/content')"
      ]
    },
    {
      "cell_type": "code",
      "execution_count": 36,
      "metadata": {
        "id": "-Ayh52376LLE",
        "cellView": "form",
        "outputId": "f8d49630-e0af-42d2-bc3e-84b873c13010",
        "colab": {
          "base_uri": "https://localhost:8080/",
          "height": 17
        }
      },
      "outputs": [
        {
          "output_type": "display_data",
          "data": {
            "text/plain": [
              "<IPython.core.display.HTML object>"
            ],
            "text/html": [
              "\n",
              "  <style>\n",
              "    pre {\n",
              "        white-space: pre-wrap;\n",
              "    }\n",
              "  </style>\n",
              "  "
            ]
          },
          "metadata": {}
        }
      ],
      "source": [
        "#@title Zip and download FORGE output folder and intermediate representations\n",
        "# from google.colab import files\n",
        "# zip_name_inter = '/content/WebNLG_['+language+']_['+split+']_allLevels.zip'\n",
        "# !zip -r {zip_name_inter} /content/FORGe/structures\n",
        "\n",
        "# clear_output()\n",
        "\n",
        "# files.download(zip_name_inter)"
      ]
    },
    {
      "cell_type": "code",
      "execution_count": 37,
      "metadata": {
        "id": "FewbcFh96MOT",
        "cellView": "form",
        "outputId": "612b6dc9-f42f-4dbf-8b51-15fedb043eae",
        "colab": {
          "base_uri": "https://localhost:8080/",
          "height": 17
        }
      },
      "outputs": [
        {
          "output_type": "display_data",
          "data": {
            "text/plain": [
              "<IPython.core.display.HTML object>"
            ],
            "text/html": [
              "\n",
              "  <style>\n",
              "    pre {\n",
              "        white-space: pre-wrap;\n",
              "    }\n",
              "  </style>\n",
              "  "
            ]
          },
          "metadata": {}
        }
      ],
      "source": [
        "#@title Zip and download FORGe log files folder\n",
        "# from google.colab import files\n",
        "# zip_name_log = '/content/WebNLG_['+language+']_['+split+']_logs.zip'\n",
        "# !zip -r {zip_name_log} /content/FORGe/log\n",
        "\n",
        "# clear_output()\n",
        "\n",
        "# files.download(zip_name_log)"
      ]
    },
    {
      "cell_type": "markdown",
      "source": [
        "# Step 4: Show text - You can download the *_EN.txt or *_GA.txt file at the bottom on the leftside"
      ],
      "metadata": {
        "id": "YKdQerUWtepC"
      }
    },
    {
      "cell_type": "code",
      "execution_count": 47,
      "metadata": {
        "id": "-y2WAncs3NjO",
        "outputId": "649c49a4-f979-449f-aa9f-d8b3e67b3cb3",
        "colab": {
          "base_uri": "https://localhost:8080/",
          "height": 273
        }
      },
      "outputs": [
        {
          "output_type": "display_data",
          "data": {
            "text/plain": [
              "<IPython.core.display.HTML object>"
            ],
            "text/html": [
              "\n",
              "  <style>\n",
              "    pre {\n",
              "        white-space: pre-wrap;\n",
              "    }\n",
              "  </style>\n",
              "  "
            ]
          },
          "metadata": {}
        },
        {
          "output_type": "display_data",
          "data": {
            "image/png": "[encoded data removed]",
            "text/plain": [
              "<IPython.core.display.Image object>"
            ]
          },
          "metadata": {
            "image/png": {
              "width": 1400,
              "height": 82
            }
          }
        },
        {
          "output_type": "display_data",
          "data": {
            "text/plain": [
              "<IPython.core.display.Markdown object>"
            ],
            "text/markdown": "#The Raspberry Pi Foundation"
          },
          "metadata": {}
        },
        {
          "output_type": "display_data",
          "data": {
            "image/png": "[encoded data removed]",
            "text/plain": [
              "<IPython.core.display.Image object>"
            ]
          },
          "metadata": {
            "image/png": {
              "width": 1110,
              "height": 82
            }
          }
        }
      ],
      "source": [
        "#@title Show text\n",
        "from IPython.display import Image, display, Markdown\n",
        "\n",
        "display(Image('/content/triples2predArg/wikipedia-header.png', width=1400, height=82))\n",
        "title = '#'+name+''\n",
        "display(Markdown(title))\n",
        "display(Image('/content/triples2predArg/wikipedia-subheader.png', width=1110, height=82))\n",
        "\n",
        "with codecs.open(filename, 'r', 'utf-8') as text:\n",
        "  for line in text:\n",
        "    print(line)"
      ]
    }
  ],
  "metadata": {
    "colab": {
      "collapsed_sections": [
        "Jn-kiZwI9h1X"
      ],
      "provenance": [],
      "include_colab_link": true
    },
    "kernelspec": {
      "display_name": "Python 3",
      "name": "python3"
    },
    "language_info": {
      "name": "python"
    },
    "widgets": {
      "application/vnd.jupyter.widget-state+json": {
        "9b79366220fc4296b7efede264129967": {
          "model_module": "@jupyter-widgets/controls",
          "model_name": "SelectMultipleModel",
          "model_module_version": "1.5.0",
          "state": {
            "_dom_classes": [],
            "_model_module": "@jupyter-widgets/controls",
            "_model_module_version": "1.5.0",
            "_model_name": "SelectMultipleModel",
            "_options_labels": [],
            "_view_count": null,
            "_view_module": "@jupyter-widgets/controls",
            "_view_module_version": "1.5.0",
            "_view_name": "SelectMultipleView",
            "description": "Properties",
            "description_tooltip": null,
            "disabled": false,
            "index": [],
            "layout": "IPY_MODEL_9551248c64f049ff8e150bc32876aeff",
            "rows": 0,
            "style": "IPY_MODEL_c5e7e23bc7844f7a8443f31cb03abe7c"
          }
        },
        "9551248c64f049ff8e150bc32876aeff": {
          "model_module": "@jupyter-widgets/base",
          "model_name": "LayoutModel",
          "model_module_version": "1.2.0",
          "state": {
            "_model_module": "@jupyter-widgets/base",
            "_model_module_version": "1.2.0",
            "_model_name": "LayoutModel",
            "_view_count": null,
            "_view_module": "@jupyter-widgets/base",
            "_view_module_version": "1.2.0",
            "_view_name": "LayoutView",
            "align_content": null,
            "align_items": null,
            "align_self": null,
            "border": null,
            "bottom": null,
            "display": null,
            "flex": null,
            "flex_flow": null,
            "grid_area": null,
            "grid_auto_columns": null,
            "grid_auto_flow": null,
            "grid_auto_rows": null,
            "grid_column": null,
            "grid_gap": null,
            "grid_row": null,
            "grid_template_areas": null,
            "grid_template_columns": null,
            "grid_template_rows": null,
            "height": null,
            "justify_content": null,
            "justify_items": null,
            "left": null,
            "margin": null,
            "max_height": null,
            "max_width": null,
            "min_height": null,
            "min_width": null,
            "object_fit": null,
            "object_position": null,
            "order": null,
            "overflow": null,
            "overflow_x": null,
            "overflow_y": null,
            "padding": null,
            "right": null,
            "top": null,
            "visibility": null,
            "width": "642px"
          }
        },
        "c5e7e23bc7844f7a8443f31cb03abe7c": {
          "model_module": "@jupyter-widgets/controls",
          "model_name": "DescriptionStyleModel",
          "model_module_version": "1.5.0",
          "state": {
            "_model_module": "@jupyter-widgets/controls",
            "_model_module_version": "1.5.0",
            "_model_name": "DescriptionStyleModel",
            "_view_count": null,
            "_view_module": "@jupyter-widgets/base",
            "_view_module_version": "1.2.0",
            "_view_name": "StyleView",
            "description_width": ""
          }
        }
      }
    }
  },
  "nbformat": 4,
  "nbformat_minor": 0
}